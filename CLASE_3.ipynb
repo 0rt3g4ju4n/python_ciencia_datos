{
 "cells": [
  {
   "cell_type": "markdown",
   "metadata": {},
   "source": [
    "### LIBRERIAS"
   ]
  },
  {
   "cell_type": "code",
   "execution_count": 248,
   "metadata": {},
   "outputs": [],
   "source": [
    "from PIL import Image\n",
    "import matplotlib.pyplot as plt\n",
    "import pandas as pd\n",
    "import numpy as np\n",
    "import random"
   ]
  },
  {
   "cell_type": "markdown",
   "metadata": {},
   "source": [
    "### EJERCICIO"
   ]
  },
  {
   "cell_type": "code",
   "execution_count": null,
   "metadata": {},
   "outputs": [],
   "source": [
    "validacion= np.array([[1, 0], [0,1]])\n",
    "matriz = np.array([[3, 4], [5, 6]])"
   ]
  },
  {
   "cell_type": "code",
   "execution_count": null,
   "metadata": {},
   "outputs": [],
   "source": [
    "def det(matriz):\n",
    "  determinante = (matriz[0, 0] * matriz[1, 1]) - (matriz[0, 1] * matriz[1, 0])\n",
    "  return determinante \n",
    "\n",
    "def inversa(det, matriz):\n",
    "  mult = 1/det\n",
    "  menos = np.array([[matriz[0,0], matriz[0, 1] * -1], [matriz[1, 0] * -1, matriz[1,1]]])\n",
    "  inversa = np.array([[menos[1,1] * mult, menos[0, 1] * mult], [menos[1,0] * mult, menos[0, 0] * mult]])\n",
    "  return inversa\n",
    "\n",
    "def final(matriz, inversa):\n",
    "  multi = np.dot(matriz, inversa).astype(int)\n",
    "  if np.array_equal(validacion, multi):\n",
    "    return True\n",
    "  else:\n",
    "    return False\n"
   ]
  },
  {
   "cell_type": "code",
   "execution_count": null,
   "metadata": {},
   "outputs": [],
   "source": [
    "dete = det(matriz)\n",
    "inversa = inversa(dete, matriz)\n",
    "final(matriz, inversa)"
   ]
  },
  {
   "cell_type": "markdown",
   "metadata": {},
   "source": [
    "### EJERCICIO_v2"
   ]
  },
  {
   "cell_type": "code",
   "execution_count": 237,
   "metadata": {},
   "outputs": [],
   "source": [
    "def generar_matriz(limite_valores):\n",
    "  vector_a = [random.randint(limite_valores * -1, limite_valores) for i in range(2)]\n",
    "  vector_b = [random.randint(limite_valores * -1, limite_valores) for i in range(2)]\n",
    "  matriz = np.array([vector_a, vector_b])\n",
    "  return matriz\n",
    "\n",
    "def det(matriz):\n",
    "  determinante = (matriz[0, 0] * matriz[1, 1]) - (matriz[0, 1] * matriz[1, 0])\n",
    "  return determinante \n",
    "\n",
    "def inversa(det, matriz):\n",
    "  mult = 1/det\n",
    "  menos = np.array([[matriz[0,0], matriz[0, 1] * -1], [matriz[1, 0] * -1, matriz[1,1]]])\n",
    "  invers = np.array([[menos[1,1] * mult, menos[0, 1] * mult], [menos[1,0] * mult, menos[0, 0] * mult]])\n",
    "  return invers\n",
    "\n",
    "def final(matriz, inversa):\n",
    "  multi = np.dot(matriz, inversa).astype(int)\n",
    "  validacion= np.array([[1, 0], [0,1]])\n",
    "  if np.array_equal(validacion, multi):\n",
    "    return True\n",
    "  else:\n",
    "    return False\n",
    "def ejercicio_v2(limite_valores, limite_matrices):\n",
    "  matrices_si = np.empty((0, 4), dtype=int)\n",
    "  matrices_no = np.empty((0, 4), dtype=int)\n",
    "  for i in range(limite_matrices):\n",
    "    matriz = generar_matriz(limite_valores)\n",
    "    determinante = det(matriz)\n",
    "    inverse = inversa(determinante, matriz)\n",
    "    vali = final(matriz, inverse)\n",
    "    vector = matriz.reshape(1,4)\n",
    "    if vali == True:\n",
    "      matrices_si = np.vstack((matrices_si, vector))\n",
    "    else:\n",
    "      matrices_no = np.vstack((matrices_no, vector))\n",
    "  df_si = pd.DataFrame(data=matrices_si, columns= [\"A11\", \"A12\", \"A21\", \"A22\"])\n",
    "  df_no = pd.DataFrame(data=matrices_no, columns= [\"A11\", \"A12\", \"A21\", \"A22\"])\n",
    "  print('Las siguientes metrices cumplen con la propiedad: A*A^-1 = I')\n",
    "  display(df_si)\n",
    "  print('Las siguientes matrices no cumplen con la propiedad A*A^-1 = I')\n",
    "  display(df_no)"
   ]
  },
  {
   "cell_type": "code",
   "execution_count": 239,
   "metadata": {},
   "outputs": [
    {
     "name": "stdout",
     "output_type": "stream",
     "text": [
      "Las siguientes metrices cumplen con la propiedad: A*A^-1 = I\n"
     ]
    },
    {
     "data": {
      "text/html": [
       "<div>\n",
       "<style scoped>\n",
       "    .dataframe tbody tr th:only-of-type {\n",
       "        vertical-align: middle;\n",
       "    }\n",
       "\n",
       "    .dataframe tbody tr th {\n",
       "        vertical-align: top;\n",
       "    }\n",
       "\n",
       "    .dataframe thead th {\n",
       "        text-align: right;\n",
       "    }\n",
       "</style>\n",
       "<table border=\"1\" class=\"dataframe\">\n",
       "  <thead>\n",
       "    <tr style=\"text-align: right;\">\n",
       "      <th></th>\n",
       "      <th>A11</th>\n",
       "      <th>A12</th>\n",
       "      <th>A21</th>\n",
       "      <th>A22</th>\n",
       "    </tr>\n",
       "  </thead>\n",
       "  <tbody>\n",
       "    <tr>\n",
       "      <th>0</th>\n",
       "      <td>664</td>\n",
       "      <td>-830</td>\n",
       "      <td>808</td>\n",
       "      <td>101</td>\n",
       "    </tr>\n",
       "    <tr>\n",
       "      <th>1</th>\n",
       "      <td>-262</td>\n",
       "      <td>902</td>\n",
       "      <td>855</td>\n",
       "      <td>-347</td>\n",
       "    </tr>\n",
       "    <tr>\n",
       "      <th>2</th>\n",
       "      <td>883</td>\n",
       "      <td>-406</td>\n",
       "      <td>-873</td>\n",
       "      <td>139</td>\n",
       "    </tr>\n",
       "    <tr>\n",
       "      <th>3</th>\n",
       "      <td>479</td>\n",
       "      <td>-509</td>\n",
       "      <td>-31</td>\n",
       "      <td>236</td>\n",
       "    </tr>\n",
       "  </tbody>\n",
       "</table>\n",
       "</div>"
      ],
      "text/plain": [
       "   A11  A12  A21  A22\n",
       "0  664 -830  808  101\n",
       "1 -262  902  855 -347\n",
       "2  883 -406 -873  139\n",
       "3  479 -509  -31  236"
      ]
     },
     "metadata": {},
     "output_type": "display_data"
    },
    {
     "name": "stdout",
     "output_type": "stream",
     "text": [
      "Las siguientes matrices no cumplen con la propiedad A*A^-1 = I\n"
     ]
    },
    {
     "data": {
      "text/html": [
       "<div>\n",
       "<style scoped>\n",
       "    .dataframe tbody tr th:only-of-type {\n",
       "        vertical-align: middle;\n",
       "    }\n",
       "\n",
       "    .dataframe tbody tr th {\n",
       "        vertical-align: top;\n",
       "    }\n",
       "\n",
       "    .dataframe thead th {\n",
       "        text-align: right;\n",
       "    }\n",
       "</style>\n",
       "<table border=\"1\" class=\"dataframe\">\n",
       "  <thead>\n",
       "    <tr style=\"text-align: right;\">\n",
       "      <th></th>\n",
       "      <th>A11</th>\n",
       "      <th>A12</th>\n",
       "      <th>A21</th>\n",
       "      <th>A22</th>\n",
       "    </tr>\n",
       "  </thead>\n",
       "  <tbody>\n",
       "    <tr>\n",
       "      <th>0</th>\n",
       "      <td>-908</td>\n",
       "      <td>33</td>\n",
       "      <td>416</td>\n",
       "      <td>421</td>\n",
       "    </tr>\n",
       "    <tr>\n",
       "      <th>1</th>\n",
       "      <td>-408</td>\n",
       "      <td>-283</td>\n",
       "      <td>-620</td>\n",
       "      <td>-182</td>\n",
       "    </tr>\n",
       "    <tr>\n",
       "      <th>2</th>\n",
       "      <td>240</td>\n",
       "      <td>551</td>\n",
       "      <td>-701</td>\n",
       "      <td>794</td>\n",
       "    </tr>\n",
       "    <tr>\n",
       "      <th>3</th>\n",
       "      <td>-217</td>\n",
       "      <td>-581</td>\n",
       "      <td>717</td>\n",
       "      <td>299</td>\n",
       "    </tr>\n",
       "    <tr>\n",
       "      <th>4</th>\n",
       "      <td>-577</td>\n",
       "      <td>599</td>\n",
       "      <td>890</td>\n",
       "      <td>-161</td>\n",
       "    </tr>\n",
       "    <tr>\n",
       "      <th>5</th>\n",
       "      <td>305</td>\n",
       "      <td>663</td>\n",
       "      <td>-484</td>\n",
       "      <td>962</td>\n",
       "    </tr>\n",
       "  </tbody>\n",
       "</table>\n",
       "</div>"
      ],
      "text/plain": [
       "   A11  A12  A21  A22\n",
       "0 -908   33  416  421\n",
       "1 -408 -283 -620 -182\n",
       "2  240  551 -701  794\n",
       "3 -217 -581  717  299\n",
       "4 -577  599  890 -161\n",
       "5  305  663 -484  962"
      ]
     },
     "metadata": {},
     "output_type": "display_data"
    }
   ],
   "source": [
    "#ejercicio_v2(valor maximo/minimo, tamaño de la muestra)\n",
    "ejercicio_v2( 1000               ,                  10)"
   ]
  },
  {
   "cell_type": "markdown",
   "metadata": {},
   "source": [
    "### Matplotlib"
   ]
  },
  {
   "cell_type": "code",
   "execution_count": 271,
   "metadata": {},
   "outputs": [
    {
     "data": {
      "text/plain": [
       "<matplotlib.image.AxesImage at 0x24a8f19d910>"
      ]
     },
     "execution_count": 271,
     "metadata": {},
     "output_type": "execute_result"
    },
    {
     "data": {
      "image/png": "[encoded data removed]",
      "text/plain": [
       "<Figure size 640x480 with 1 Axes>"
      ]
     },
     "metadata": {},
     "output_type": "display_data"
    }
   ],
   "source": [
    "img = np.asarray(Image.open ('D:\\ESP. MACHINE LEARNING\\Colores.jpg'))\n",
    "plt.imshow(img)"
   ]
  }
 ],
 "metadata": {
  "kernelspec": {
   "display_name": "Python 3",
   "language": "python",
   "name": "python3"
  },
  "language_info": {
   "codemirror_mode": {
    "name": "ipython",
    "version": 3
   },
   "file_extension": ".py",
   "mimetype": "text/x-python",
   "name": "python",
   "nbconvert_exporter": "python",
   "pygments_lexer": "ipython3",
   "version": "3.11.8"
  }
 },
 "nbformat": 4,
 "nbformat_minor": 2
}
