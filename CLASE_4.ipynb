{
 "cells": [
  {
   "cell_type": "markdown",
   "metadata": {},
   "source": [
    "### LIBRERIAS"
   ]
  },
  {
   "cell_type": "code",
   "execution_count": 76,
   "metadata": {},
   "outputs": [],
   "source": [
    "import matplotlib.pyplot as plt\n",
    "import pandas as pd\n",
    "import numpy as np\n",
    "import random"
   ]
  },
  {
   "cell_type": "markdown",
   "metadata": {},
   "source": [
    "### EJERCICIO MATRIZ 3x3"
   ]
  },
  {
   "cell_type": "code",
   "execution_count": 77,
   "metadata": {},
   "outputs": [],
   "source": [
    "def generar_matriz(limite_valores):\n",
    "    vector_a = [random.randint(limite_valores * -1, limite_valores) for _ in range(3)]\n",
    "    vector_b = [random.randint(limite_valores * -1, limite_valores) for _ in range(3)]\n",
    "    vector_c = [random.randint(limite_valores * -1, limite_valores) for _ in range(3)]\n",
    "    matriz = np.array([vector_a, vector_b, vector_c])\n",
    "    return matriz\n",
    "\n",
    "def det(matriz):\n",
    "    determinante = (matriz[0, 0] * matriz[1, 1] * matriz[2, 2]) + \\\n",
    "                   (matriz[0, 1] * matriz[1, 2] * matriz[2, 0]) + \\\n",
    "                   (matriz[0, 2] * matriz[1, 0] * matriz[2, 1]) - \\\n",
    "                   (matriz[0, 2] * matriz[1, 1] * matriz[2, 0]) - \\\n",
    "                   (matriz[0, 0] * matriz[1, 2] * matriz[2, 1]) - \\\n",
    "                   (matriz[0, 1] * matriz[1, 0] * matriz[2, 2])\n",
    "    return determinante\n",
    "\n",
    "def seleccionar_submatriz(matriz, indice):\n",
    "    submatriz_filas = np.delete(matriz, indice, axis=0)\n",
    "    submatriz_columnas = np.delete(matriz, indice, axis=1)\n",
    "    return np.delete(submatriz_columnas, indice, axis=0)\n",
    "\n",
    "def inversa(det, matriz):\n",
    "    mult = 1 / det\n",
    "    menos = np.array([[matriz[1,1]*matriz[2,2] - matriz[1,2]*matriz[2,1], matriz[0,2]*matriz[2,1] - matriz[0,1]*matriz[2,2], matriz[0,1]*matriz[1,2] - matriz[0,2]*matriz[1,1]],\n",
    "                      [matriz[1,2]*matriz[2,0] - matriz[1,0]*matriz[2,2], matriz[0,0]*matriz[2,2] - matriz[0,2]*matriz[2,0], matriz[0,2]*matriz[1,0] - matriz[0,0]*matriz[1,2]],\n",
    "                      [matriz[1,0]*matriz[2,1] - matriz[1,1]*matriz[2,0], matriz[0,1]*matriz[2,0] - matriz[0,0]*matriz[2,1], matriz[0,0]*matriz[1,1] - matriz[0,1]*matriz[1,0]]])\n",
    "    invers = mult * menos\n",
    "    return invers\n",
    "\n",
    "def final(matriz, inversa):\n",
    "    multi = np.dot(matriz, inversa).astype(int)\n",
    "    validacion = np.identity(3)\n",
    "    if np.array_equal(validacion, multi):\n",
    "        return True\n",
    "    else:\n",
    "        return False\n",
    "\n",
    "def ejercicio_v2(limite_valores, limite_matrices):\n",
    "    matrices_si = np.empty((0, 9), dtype=int)\n",
    "    matrices_no = np.empty((0, 9), dtype=int)\n",
    "    for _ in range(limite_matrices):\n",
    "        matriz = generar_matriz(limite_valores)\n",
    "        determinante = det(matriz)\n",
    "        if determinante == 0:  \n",
    "            continue\n",
    "        inverse = inversa(determinante, matriz)\n",
    "        vali = final(matriz, inverse)\n",
    "        vector = matriz.reshape(1, -1)\n",
    "        if vali:\n",
    "            matrices_si = np.vstack((matrices_si, vector))\n",
    "        else:\n",
    "            matrices_no = np.vstack((matrices_no, vector))\n",
    "    df_si = pd.DataFrame(data=matrices_si, columns=[\"A11\", \"A12\", \"A13\", \"A21\", \"A22\", \"A23\", \"A31\", \"A32\", \"A33\"])\n",
    "    df_no = pd.DataFrame(data=matrices_no, columns=[\"A11\", \"A12\", \"A13\", \"A21\", \"A22\", \"A23\", \"A31\", \"A32\", \"A33\"])\n",
    "    print('Las siguientes matrices cumplen con la propiedad: A*A^-1 = I')\n",
    "    print(df_si)\n",
    "    print('Las siguientes matrices no cumplen con la propiedad A*A^-1 = I')\n",
    "    print(df_no)"
   ]
  },
  {
   "cell_type": "code",
   "execution_count": 78,
   "metadata": {},
   "outputs": [
    {
     "name": "stdout",
     "output_type": "stream",
     "text": [
      "Las siguientes matrices cumplen con la propiedad: A*A^-1 = I\n",
      "   A11  A12  A13  A21  A22  A23  A31  A32  A33\n",
      "0   -8   -9    8    3    3    3   -1    6    5\n",
      "1    3   10  -10    6   10    4    4   -7   10\n",
      "2    0    8    1    5   -7    4  -10    7    6\n",
      "3    7  -10   -1    1   -6    9   10    2   -1\n",
      "4   10    8   -8   -8   10   -7   -4   -3    9\n",
      "Las siguientes matrices no cumplen con la propiedad A*A^-1 = I\n",
      "   A11  A12  A13  A21  A22  A23  A31  A32  A33\n",
      "0    4    6   -3    1    2    7  -10   -7  -10\n",
      "1   -9   -6    3   10    9    1   -8   -1   -5\n",
      "2   10    5    5   -5    0    7    8    5    2\n",
      "3   -5    4   -7    5    5   -6   -2   -8   -2\n",
      "4    3   -3   -1   -6    8    5   -2    3    8\n"
     ]
    }
   ],
   "source": [
    "ejercicio_v2(10, 10)"
   ]
  },
  {
   "cell_type": "markdown",
   "metadata": {},
   "source": [
    "### EJERCICIO MATRIZ DEFINITIVO"
   ]
  },
  {
   "cell_type": "code",
   "execution_count": 79,
   "metadata": {},
   "outputs": [],
   "source": [
    "def generar_combinaciones(valores, tamaño):\n",
    "    rangos = [range(-valores, valores+1) for _ in range(tamaño)]\n",
    "    combinaciones = product(*rangos)\n",
    "    return combinaciones\n",
    "\n",
    "def lista_optimizada(valores, tamaño):\n",
    "    combinaciones = generar_combinaciones(valores, tamaño)\n",
    "    df = pd.DataFrame(combinaciones, columns=['A'+str(i) for i in range(1, tamaño+1)])\n",
    "    #df.to_csv('Lista_datos.csv', index=False)\n",
    "    return df\n",
    "\n",
    "def nueva(df):\n",
    "    validacion = []\n",
    "    for  index, row in df.iterrows():\n",
    "        vector_a = np.array([row['A1'], row['A2'], row['A3']])\n",
    "        vector_b = np.array([row['A4'], row['A5'], row['A6']])\n",
    "        vector_c = np.array([row['A7'], row['A8'], row['A9']])\n",
    "        matriz = np.array([vector_a, vector_b, vector_c])\n",
    "        determinante = np.linalg.det(matriz)\n",
    "        if determinante != 0 :\n",
    "            validacion.append('si')\n",
    "        else:\n",
    "            validacion.append('no')\n",
    "    df['validacion'] = validacion\n",
    "    return df"
   ]
  },
  {
   "cell_type": "code",
   "execution_count": 80,
   "metadata": {},
   "outputs": [],
   "source": [
    "data = lista_optimizada(2, 9)"
   ]
  },
  {
   "cell_type": "code",
   "execution_count": 81,
   "metadata": {},
   "outputs": [],
   "source": [
    "df = nueva(data)"
   ]
  },
  {
   "cell_type": "markdown",
   "metadata": {},
   "source": [
    "### VERSION FINAL "
   ]
  },
  {
   "cell_type": "code",
   "execution_count": 87,
   "metadata": {},
   "outputs": [],
   "source": [
    "tamaño = 9\n",
    "valores = 20\n",
    "cantidad_registros = 1000000"
   ]
  },
  {
   "cell_type": "code",
   "execution_count": 88,
   "metadata": {},
   "outputs": [],
   "source": [
    "def lista_optimizada(valores, tamaño, cantidad_registros):\n",
    "    combinaciones = np.random.choice(range(-5, 5+1), size=(cantidad_registros, tamaño))\n",
    "    df = pd.DataFrame(combinaciones, columns=['A'+str(i) for i in range(1, tamaño+1)])\n",
    "    #df.to_csv('Lista_datos.csv', index=False)\n",
    "    return df\n",
    "\n",
    "def nueva(df):\n",
    "    validacion = []\n",
    "    for  index, row in df.iterrows():\n",
    "        vector_a = np.array([row['A1'], row['A2'], row['A3']])\n",
    "        vector_b = np.array([row['A4'], row['A5'], row['A6']])\n",
    "        vector_c = np.array([row['A7'], row['A8'], row['A9']])\n",
    "        matriz = np.array([vector_a, vector_b, vector_c])\n",
    "        determinante = np.linalg.det(matriz)\n",
    "        if determinante != 0 :\n",
    "            validacion.append('si')\n",
    "        else:\n",
    "            validacion.append('no')\n",
    "    df['validacion'] = validacion\n",
    "    return df"
   ]
  },
  {
   "cell_type": "code",
   "execution_count": 89,
   "metadata": {},
   "outputs": [],
   "source": [
    "data = lista_optimizada(valores, tamaño, cantidad_registros)\n",
    "df = nueva(data)"
   ]
  },
  {
   "cell_type": "code",
   "execution_count": 90,
   "metadata": {},
   "outputs": [],
   "source": [
    "dats = pd.DataFrame()\n",
    "for i in range(1, len(df.columns)):\n",
    "    asa = df[df['validacion']==\"si\"]['A'+str(i)].value_counts()\n",
    "    dats = pd.concat([dats, asa], axis=1, ignore_index=True)\n",
    "defe = dats.sort_index()\n",
    "indes = defe.reset_index()['index']"
   ]
  },
  {
   "cell_type": "code",
   "execution_count": 92,
   "metadata": {},
   "outputs": [
    {
     "data": {
      "image/png": "[encoded data removed]",
      "text/plain": [
       "<Figure size 640x480 with 2 Axes>"
      ]
     },
     "metadata": {},
     "output_type": "display_data"
    }
   ],
   "source": [
    "fig, ax = plt.subplots()\n",
    "\n",
    "imagen = ax.imshow(defe, cmap='coolwarm', interpolation='nearest')\n",
    "\n",
    "barra_color = fig.colorbar(imagen, ax=ax)\n",
    "barra_color.set_label('Cantidad de Si')\n",
    "\n",
    "ax.set_xticks(np.arange(len(df.columns)-1))\n",
    "ax.set_yticks(np.arange(len(indes)))\n",
    "ax.set_xticklabels(['A1', 'A2', 'A3', 'A4', 'A5', 'A6', 'A7', 'A8', 'A9'])\n",
    "ax.set_yticklabels(indes)\n",
    "\n",
    "plt.title('Visualización de Cantidad de Si')\n",
    "plt.xlabel('Columnas')\n",
    "plt.ylabel('Valores')\n",
    "plt.show()"
   ]
  }
 ],
 "metadata": {
  "kernelspec": {
   "display_name": "Python 3",
   "language": "python",
   "name": "python3"
  },
  "language_info": {
   "codemirror_mode": {
    "name": "ipython",
    "version": 3
   },
   "file_extension": ".py",
   "mimetype": "text/x-python",
   "name": "python",
   "nbconvert_exporter": "python",
   "pygments_lexer": "ipython3",
   "version": "3.11.8"
  }
 },
 "nbformat": 4,
 "nbformat_minor": 2
}
