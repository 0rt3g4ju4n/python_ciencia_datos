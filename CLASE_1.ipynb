{
 "cells": [
  {
   "cell_type": "code",
   "execution_count": 3,
   "metadata": {},
   "outputs": [
    {
     "name": "stdout",
     "output_type": "stream",
     "text": [
      "1: Suma\n",
      "2: Resta\n",
      "3: Multiplicación\n",
      "4: División\n",
      "0\n"
     ]
    }
   ],
   "source": [
    "print(\"1: Suma\")\n",
    "print(\"2: Resta\")\n",
    "print(\"3: Multiplicación\")\n",
    "print(\"4: División\")\n",
    "operacion = int(input(\"ingrese operación a ejecutar entre las opciones mencionadas previamente: \"))\n",
    "primer_numero = int(input(\"Ingrese el primer numero a operar:\"))\n",
    "segundo_numero = int(input(\"Ingrese el Segundo numero a operar:\"))\n",
    "if operacion == 1:\n",
    "  print(primer_numero + segundo_numero)\n",
    "elif operacion == 2:\n",
    "  print(primer_numero - segundo_numero)\n",
    "elif operacion == 3:\n",
    "  print(primer_numero * segundo_numero)\n",
    "elif operacion == 4:\n",
    "  print(primer_numero / segundo_numero)"
   ]
  },
  {
   "cell_type": "code",
   "execution_count": 1,
   "metadata": {},
   "outputs": [
    {
     "name": "stdout",
     "output_type": "stream",
     "text": [
      "5 x 1 = 5\n",
      "5 x 2 = 10\n",
      "5 x 3 = 15\n",
      "5 x 4 = 20\n",
      "5 x 5 = 25\n",
      "5 x 6 = 30\n",
      "5 x 7 = 35\n",
      "5 x 8 = 40\n",
      "5 x 9 = 45\n",
      "5 x 10 = 50\n"
     ]
    }
   ],
   "source": [
    "numero = int(input(f\"Digite um número: \"))\n",
    "for i in range(1,11):\n",
    "  print(f'{numero} x {i} = {numero * i}')"
   ]
  },
  {
   "cell_type": "markdown",
   "metadata": {},
   "source": [
    "### FUNCIONES PROPIAS\n",
    "\n",
    "https://docs.python.org/3/library/functions.html#round"
   ]
  },
  {
   "cell_type": "code",
   "execution_count": 6,
   "metadata": {},
   "outputs": [
    {
     "name": "stdout",
     "output_type": "stream",
     "text": [
      "1: Suma\n",
      "2: Resta\n",
      "3: Multiplicación\n",
      "4: División\n",
      "\n",
      "El resultado es: 12\n",
      "\n",
      "¡Gracias por utilizar este programa!\n"
     ]
    }
   ],
   "source": [
    "print(\"1: Suma\")\n",
    "print(\"2: Resta\")\n",
    "print(\"3: Multiplicación\")\n",
    "print(\"4: División\")\n",
    "\n",
    "continuar = \"Y\"\n",
    "while continuar== \"Y\":\n",
    "  operacion = int(input(\"Ingrese operación a ejecutar entre las opciones mencionadas previamente: \"))\n",
    "  primer_numero = int(input(\"Ingrese el primer numero a operar:\"))\n",
    "  segundo_numero = int(input(\"Ingrese el Segundo numero a operar:\"))\n",
    "  if operacion == 1:\n",
    "    calculo = primer_numero + segundo_numero\n",
    "  elif operacion == 2:\n",
    "    calculo = primer_numero - segundo_numero\n",
    "  elif operacion == 3:\n",
    "    calculo = primer_numero * segundo_numero\n",
    "  elif operacion == 4:\n",
    "    calculo = primer_numero / segundo_numero\n",
    "  else:\n",
    "    print(\"\\nOperación solicitada no hace parte de las disponibles\")\n",
    "  \n",
    "  \n",
    "  print(f'\\nEl resultado es: {calculo}')\n",
    "  continuar = input(\"¿Desea realizar otra operación? (Y/N): \")\n",
    "print(f'\\n¡Gracias por utilizar este programa!')"
   ]
  },
  {
   "cell_type": "code",
   "execution_count": 7,
   "metadata": {},
   "outputs": [
    {
     "name": "stdout",
     "output_type": "stream",
     "text": [
      "1: Suma\n",
      "2: Resta\n",
      "3: Multiplicación\n",
      "4: División\n",
      "5: Seno\n",
      "6: Coseno\n",
      "7: Logaritmo\n",
      "8: Exponencial\n"
     ]
    },
    {
     "name": "stdout",
     "output_type": "stream",
     "text": [
      "\n",
      "El resultado es: 0.8660254037844386\n",
      "\n",
      "¡Gracias por utilizar este programa!\n"
     ]
    }
   ],
   "source": [
    "import math\n",
    "\n",
    "print(\"1: Suma\")\n",
    "print(\"2: Resta\")\n",
    "print(\"3: Multiplicación\")\n",
    "print(\"4: División\")\n",
    "print(\"5: Seno\")\n",
    "print(\"6: Coseno\")\n",
    "print(\"7: Logaritmo\")\n",
    "print(\"8: Exponencial\")\n",
    "\n",
    "aritmetricas  = [1, 2, 3, 4] \n",
    "otras = [5, 6, 7, 8]\n",
    "continuar = \"Y\"\n",
    "while continuar == \"Y\":\n",
    "    operacion = int(input(\"Ingrese operación a ejecutar entre las opciones mencionadas previamente: \"))\n",
    "    if operacion in aritmetricas:\n",
    "        primer_numero = float(input(\"Ingrese el primer número a operar: \"))\n",
    "        segundo_numero = float(input(\"Ingrese el segundo número a operar: \"))\n",
    "    elif operacion in otras:\n",
    "        angulo_o_numero = float(input(\"Ingrese el número o ángulo (en grados) correspondiente: \"))\n",
    "    \n",
    "    if operacion == 1:\n",
    "        calculo = primer_numero + segundo_numero\n",
    "    elif operacion == 2:\n",
    "        calculo = primer_numero - segundo_numero\n",
    "    elif operacion == 3:\n",
    "        calculo = primer_numero * segundo_numero\n",
    "    elif operacion == 4:\n",
    "        calculo = primer_numero / segundo_numero\n",
    "    elif operacion == 5:\n",
    "        calculo = math.sin(math.radians(angulo_o_numero))\n",
    "    elif operacion == 6:\n",
    "        calculo = math.cos(math.radians(angulo_o_numero))\n",
    "    elif operacion == 7:\n",
    "        base = float(input(\"Ingrese la base del logaritmo: \"))\n",
    "        calculo = math.log(angulo_o_numero, base)\n",
    "    elif operacion == 8:\n",
    "        calculo = math.exp(angulo_o_numero)\n",
    "    else:\n",
    "        print(\"\\nOperación solicitada no hace parte de las disponibles\")\n",
    "\n",
    "    print(f'\\nEl resultado es: {calculo}')\n",
    "    continuar = input(\"¿Desea realizar otra operación? (Y/N): \").upper()\n",
    "\n",
    "print(\"\\n¡Gracias por utilizar este programa!\")\n"
   ]
  },
  {
   "cell_type": "code",
   "execution_count": 5,
   "metadata": {},
   "outputs": [],
   "source": [
    "import numpy as np\n",
    "\n",
    "# Definir vectores\n",
    "vector1 = np.array([1, 2, 3])\n",
    "vector2 = np.array([4, 5, 6])\n",
    "\n",
    "# Suma de vectores\n",
    "suma_vectores = vector1 + vector2\n",
    "\n",
    "# Multiplicación por un escalar\n",
    "escalar = 2\n",
    "multiplicacion_escalar = escalar * vector1\n",
    "\n",
    "# Producto Punto (Producto Escalar)\n",
    "producto_punto = np.dot(vector1, vector2)\n",
    "\n",
    "# Producto Cruz (Producto Vectorial)\n",
    "producto_cruz = np.cross(vector1, vector2)\n",
    "\n",
    "# Definir matrices\n",
    "matriz1 = np.array([[1, 2], [3, 4]])\n",
    "matriz2 = np.array([[5, 6], [7, 8]])\n",
    "\n",
    "# Suma de matrices\n",
    "suma_matrices = matriz1 + matriz2\n",
    "\n",
    "# Multiplicación de matrices\n",
    "multiplicacion_matrices = np.dot(matriz1, matriz2)\n",
    "\n",
    "# Determinante de una matriz\n",
    "determinante = np.linalg.det(matriz1)\n",
    "\n",
    "# Verificar dependencia lineal\n",
    "conjunto_vectores = np.array([[1, 2], [2, 4]])\n",
    "dependencia_lineal = np.linalg.matrix_rank(conjunto_vectores)"
   ]
  }
 ],
 "metadata": {
  "kernelspec": {
   "display_name": "Python 3",
   "language": "python",
   "name": "python3"
  },
  "language_info": {
   "codemirror_mode": {
    "name": "ipython",
    "version": 3
   },
   "file_extension": ".py",
   "mimetype": "text/x-python",
   "name": "python",
   "nbconvert_exporter": "python",
   "pygments_lexer": "ipython3",
   "version": "3.11.8"
  }
 },
 "nbformat": 4,
 "nbformat_minor": 2
}
